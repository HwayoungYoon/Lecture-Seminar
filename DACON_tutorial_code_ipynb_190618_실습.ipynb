{
  "nbformat": 4,
  "nbformat_minor": 0,
  "metadata": {
    "colab": {
      "name": "DACON_tutorial_code.ipynb 190618 실습",
      "provenance": [],
      "collapsed_sections": [],
      "include_colab_link": true
    },
    "kernelspec": {
      "name": "python3",
      "display_name": "Python 3"
    },
    "accelerator": "GPU"
  },
  "cells": [
    {
      "cell_type": "markdown",
      "metadata": {
        "id": "view-in-github",
        "colab_type": "text"
      },
      "source": [
        "<a href=\"https://colab.research.google.com/github/HwayoungYoon/Lecture-Seminar/blob/master/DACON_tutorial_code_ipynb_190618_%EC%8B%A4%EC%8A%B5.ipynb\" target=\"_parent\"><img src=\"https://colab.research.google.com/assets/colab-badge.svg\" alt=\"Open In Colab\"/></a>"
      ]
    },
    {
      "cell_type": "code",
      "metadata": {
        "id": "h3gnRNjxkE6W",
        "colab_type": "code",
        "outputId": "4049c028-9e1d-49fe-9cfe-bb345d511168",
        "colab": {
          "base_uri": "https://localhost:8080/",
          "height": 429
        }
      },
      "source": [
        "!pip install PyDrive"
      ],
      "execution_count": 0,
      "outputs": [
        {
          "output_type": "stream",
          "text": [
            "Collecting PyDrive\n",
            "\u001b[?25l  Downloading https://files.pythonhosted.org/packages/52/e0/0e64788e5dd58ce2d6934549676243dc69d982f198524be9b99e9c2a4fd5/PyDrive-1.3.1.tar.gz (987kB)\n",
            "\u001b[K     |████████████████████████████████| 993kB 3.3MB/s \n",
            "\u001b[?25hRequirement already satisfied: google-api-python-client>=1.2 in /usr/local/lib/python3.6/dist-packages (from PyDrive) (1.7.9)\n",
            "Requirement already satisfied: oauth2client>=4.0.0 in /usr/local/lib/python3.6/dist-packages (from PyDrive) (4.1.3)\n",
            "Requirement already satisfied: PyYAML>=3.0 in /usr/local/lib/python3.6/dist-packages (from PyDrive) (3.13)\n",
            "Requirement already satisfied: httplib2<1dev,>=0.9.2 in /usr/local/lib/python3.6/dist-packages (from google-api-python-client>=1.2->PyDrive) (0.11.3)\n",
            "Requirement already satisfied: six<2dev,>=1.6.1 in /usr/local/lib/python3.6/dist-packages (from google-api-python-client>=1.2->PyDrive) (1.12.0)\n",
            "Requirement already satisfied: google-auth-httplib2>=0.0.3 in /usr/local/lib/python3.6/dist-packages (from google-api-python-client>=1.2->PyDrive) (0.0.3)\n",
            "Requirement already satisfied: uritemplate<4dev,>=3.0.0 in /usr/local/lib/python3.6/dist-packages (from google-api-python-client>=1.2->PyDrive) (3.0.0)\n",
            "Requirement already satisfied: google-auth>=1.4.1 in /usr/local/lib/python3.6/dist-packages (from google-api-python-client>=1.2->PyDrive) (1.4.2)\n",
            "Requirement already satisfied: pyasn1>=0.1.7 in /usr/local/lib/python3.6/dist-packages (from oauth2client>=4.0.0->PyDrive) (0.4.5)\n",
            "Requirement already satisfied: rsa>=3.1.4 in /usr/local/lib/python3.6/dist-packages (from oauth2client>=4.0.0->PyDrive) (4.0)\n",
            "Requirement already satisfied: pyasn1-modules>=0.0.5 in /usr/local/lib/python3.6/dist-packages (from oauth2client>=4.0.0->PyDrive) (0.2.5)\n",
            "Requirement already satisfied: cachetools>=2.0.0 in /usr/local/lib/python3.6/dist-packages (from google-auth>=1.4.1->google-api-python-client>=1.2->PyDrive) (3.1.1)\n",
            "Building wheels for collected packages: PyDrive\n",
            "  Building wheel for PyDrive (setup.py) ... \u001b[?25l\u001b[?25hdone\n",
            "  Stored in directory: /root/.cache/pip/wheels/fa/d2/9a/d3b6b506c2da98289e5d417215ce34b696db856643bad779f4\n",
            "Successfully built PyDrive\n",
            "Installing collected packages: PyDrive\n",
            "Successfully installed PyDrive-1.3.1\n"
          ],
          "name": "stdout"
        }
      ]
    },
    {
      "cell_type": "code",
      "metadata": {
        "id": "NZNlTtG5kGM9",
        "colab_type": "code",
        "colab": {}
      },
      "source": [
        "import os\n",
        "from pydrive.auth import GoogleAuth\n",
        "from pydrive.drive import GoogleDrive\n",
        "from google.colab import auth\n",
        "from oauth2client.client import GoogleCredentials"
      ],
      "execution_count": 0,
      "outputs": []
    },
    {
      "cell_type": "code",
      "metadata": {
        "id": "6UEoTjKpkIsu",
        "colab_type": "code",
        "colab": {}
      },
      "source": [
        "auth.authenticate_user()\n",
        "gauth = GoogleAuth()\n",
        "gauth.credentials = GoogleCredentials.get_application_default()\n",
        "drive = GoogleDrive(gauth)"
      ],
      "execution_count": 0,
      "outputs": []
    },
    {
      "cell_type": "code",
      "metadata": {
        "id": "FwqVvJaCkKVB",
        "colab_type": "code",
        "colab": {}
      },
      "source": [
        "download = drive.CreateFile({\"id\": \"1u0Ajuxt8z3ebMdRGE5FQ7DBzhefcppAk\"}) #이부분 수정하면 됩니당\n",
        "download.GetContentFile(\"movies_test.csv\")\n"
      ],
      "execution_count": 0,
      "outputs": []
    },
    {
      "cell_type": "code",
      "metadata": {
        "id": "bTeNl9J7q5g7",
        "colab_type": "code",
        "colab": {}
      },
      "source": [
        "download = drive.CreateFile({\"id\": \"1JxJ5AGM4-aJ2kN4EX-njp4D1PmyYpfPZ\"}) #이부분 수정하면 됩니당\n",
        "download.GetContentFile(\"movies_train.csv\")"
      ],
      "execution_count": 0,
      "outputs": []
    },
    {
      "cell_type": "code",
      "metadata": {
        "id": "yL2fCk0Mry3f",
        "colab_type": "code",
        "colab": {}
      },
      "source": [
        "import pandas as pd\n",
        "import numpy as np"
      ],
      "execution_count": 0,
      "outputs": []
    },
    {
      "cell_type": "code",
      "metadata": {
        "id": "leX83DwUrDDO",
        "colab_type": "code",
        "colab": {}
      },
      "source": [
        "train_df = pd.read_csv(\"movies_train.csv\")\n",
        "test_df = pd.read_csv(\"movies_test.csv\")"
      ],
      "execution_count": 0,
      "outputs": []
    },
    {
      "cell_type": "code",
      "metadata": {
        "id": "rEqE4dbjrxCy",
        "colab_type": "code",
        "outputId": "ac3865fe-a62f-460d-8dd0-8ba74aa273d7",
        "colab": {
          "base_uri": "https://localhost:8080/",
          "height": 36
        }
      },
      "source": [
        "train_df.shape, test_df.shape"
      ],
      "execution_count": 0,
      "outputs": [
        {
          "output_type": "execute_result",
          "data": {
            "text/plain": [
              "((600, 12), (243, 11))"
            ]
          },
          "metadata": {
            "tags": []
          },
          "execution_count": 9
        }
      ]
    },
    {
      "cell_type": "code",
      "metadata": {
        "id": "4OnP4GFdr4fd",
        "colab_type": "code",
        "outputId": "1921a123-b4d9-43a1-9651-af63e88c48e3",
        "colab": {
          "base_uri": "https://localhost:8080/",
          "height": 260
        }
      },
      "source": [
        "test_df['box_off_num'] = None\n",
        "df = pd.concat([train_df, test_df], axis = 0) # 두 데이터 Merge\n",
        "df.isnull().sum() #결측값 확인\n",
        "# dir_prev_bfnum의 경우 466개의 결측값이 존재하고\n",
        "# box_off_num은 243는 Test data로 예측해야할 대상임."
      ],
      "execution_count": 0,
      "outputs": [
        {
          "output_type": "execute_result",
          "data": {
            "text/plain": [
              "title               0\n",
              "distributor         0\n",
              "genre               0\n",
              "release_time        0\n",
              "time                0\n",
              "screening_rat       0\n",
              "director            0\n",
              "dir_prev_bfnum    466\n",
              "dir_prev_num        0\n",
              "num_staff           0\n",
              "num_actor           0\n",
              "box_off_num       243\n",
              "dtype: int64"
            ]
          },
          "metadata": {
            "tags": []
          },
          "execution_count": 10
        }
      ]
    },
    {
      "cell_type": "markdown",
      "metadata": {
        "id": "RTcUBS3xsEFq",
        "colab_type": "text"
      },
      "source": [
        "#- ①\tmovies_train.csv\n",
        "2010년대 한국에서 개봉한 한국영화 600개에 대한 감독, 이름, 상영등급, 관객수 등의 정보가 담긴 데이터\n",
        "- ②\tmovies_test.csv\n",
        "관객수를 제외하고 movies_train과 동일\n",
        "- ③\tsubmission.csv\n",
        "제출 파일의 형식\n",
        "\n",
        "\n",
        "[Data fields]\n",
        "①\tmovies_train.csv\n",
        "2010년대 한국에서 개봉한 한국영화 600개에 대한 감독, 이름, 상영등급, 관객수 등의 정보가 담긴 데이터 \n",
        "\n",
        "- Column_name\tDescription\n",
        "- 1 title : 영화의 제목\n",
        "- 2 distributor : 배급사\n",
        "- 3 genre : 장르\n",
        "- 4 release_time : 개봉일\n",
        "- 5 time : 상영시간(분)\n",
        "- 6 screening_rat : 상영등급\n",
        "- 7 director : 감독이름\n",
        "- 8 dir_prev_bfnum : 해당 감독이 이 영화를 만들기 전 제작에 참여한 영화에서의 평균 관객수(단 관객수가 알려지지 않은 영화 제외)\n",
        "- 9 dir_prev_num : 해당 감독이 이 영화를 만들기 전 제작에 참여한 영화의 개수(단 관객수가 알려지지 않은 영화 제외)\n",
        "- 10 num_staff : 스텝수\n",
        "- 11 num_actor : 주연배우수\n",
        "- 12\tbox_off_num : 관객수\n"
      ]
    },
    {
      "cell_type": "markdown",
      "metadata": {
        "id": "b_OuEpHJsLGF",
        "colab_type": "text"
      },
      "source": [
        "# 2 distributor : 배급사\n"
      ]
    },
    {
      "cell_type": "code",
      "metadata": {
        "id": "HgMuklCYsSAn",
        "colab_type": "code",
        "colab": {}
      },
      "source": [
        "import seaborn as sns"
      ],
      "execution_count": 0,
      "outputs": []
    },
    {
      "cell_type": "code",
      "metadata": {
        "id": "3sA8kFTOsMmS",
        "colab_type": "code",
        "outputId": "6f2d0cb3-1d2b-46f2-d936-31b1f28f5999",
        "colab": {
          "base_uri": "https://localhost:8080/",
          "height": 302
        }
      },
      "source": [
        "sns.countplot(df.distributor)"
      ],
      "execution_count": 0,
      "outputs": [
        {
          "output_type": "execute_result",
          "data": {
            "text/plain": [
              "<matplotlib.axes._subplots.AxesSubplot at 0x7fdcff16fba8>"
            ]
          },
          "metadata": {
            "tags": []
          },
          "execution_count": 12
        },
        {
          "output_type": "display_data",
          "data": {
            "image/png": "[encoded data removed]",
            "text/plain": [
              "<Figure size 432x288 with 1 Axes>"
            ]
          },
          "metadata": {
            "tags": []
          }
        }
      ]
    },
    {
      "cell_type": "code",
      "metadata": {
        "id": "wH_IWGXBsdOe",
        "colab_type": "code",
        "outputId": "384bcd55-18b0-47c1-9ed0-ebff37a0419d",
        "colab": {
          "base_uri": "https://localhost:8080/",
          "height": 2987
        }
      },
      "source": [
        "!apt-get update\n",
        "!apt-get install g++ openjdk-8-jdk python-dev python3-dev\n",
        "!pip3 install JPype1-py3\n",
        "!pip3 install konlpy\n",
        "!JAVA_HOME=\"/usr/lib/jvm/java-8-openjdk-amd64\""
      ],
      "execution_count": 0,
      "outputs": [
        {
          "output_type": "stream",
          "text": [
            "\r0% [Working]\r            \rIgn:1 https://developer.download.nvidia.com/compute/cuda/repos/ubuntu1804/x86_64  InRelease\n",
            "\r0% [Waiting for headers] [Waiting for headers] [Connected to cloud.r-project.or\r                                                                               \rGet:2 https://cloud.r-project.org/bin/linux/ubuntu bionic-cran35/ InRelease [3,626 B]\n",
            "\r0% [Waiting for headers] [Waiting for headers] [2 InRelease 3,626 B/3,626 B 100\r0% [Waiting for headers] [Waiting for headers] [Waiting for headers] [Waiting f\r0% [2 InRelease gpgv 3,626 B] [Waiting for headers] [Waiting for headers] [Wait\r                                                                               \rGet:3 http://ppa.launchpad.net/graphics-drivers/ppa/ubuntu bionic InRelease [21.3 kB]\n",
            "\r0% [2 InRelease gpgv 3,626 B] [Waiting for headers] [Waiting for headers] [Wait\r                                                                               \rIgn:4 https://developer.download.nvidia.com/compute/machine-learning/repos/ubuntu1804/x86_64  InRelease\n",
            "\r0% [2 InRelease gpgv 3,626 B] [Waiting for headers] [Waiting for headers] [3 In\r                                                                               \rHit:5 https://developer.download.nvidia.com/compute/cuda/repos/ubuntu1804/x86_64  Release\n",
            "Hit:6 https://developer.download.nvidia.com/compute/machine-learning/repos/ubuntu1804/x86_64  Release\n",
            "Get:7 http://security.ubuntu.com/ubuntu bionic-security InRelease [88.7 kB]\n",
            "Get:8 https://cloud.r-project.org/bin/linux/ubuntu bionic-cran35/ Packages [58.0 kB]\n",
            "Get:9 http://ppa.launchpad.net/marutter/c2d4u3.5/ubuntu bionic InRelease [15.4 kB]\n",
            "Hit:11 http://archive.ubuntu.com/ubuntu bionic InRelease\n",
            "Get:12 http://archive.ubuntu.com/ubuntu bionic-updates InRelease [88.7 kB]\n",
            "Get:14 http://archive.ubuntu.com/ubuntu bionic-backports InRelease [74.6 kB]\n",
            "Get:15 http://ppa.launchpad.net/graphics-drivers/ppa/ubuntu bionic/main amd64 Packages [33.0 kB]\n",
            "Get:16 http://ppa.launchpad.net/marutter/c2d4u3.5/ubuntu bionic/main Sources [1,647 kB]\n",
            "Get:17 http://security.ubuntu.com/ubuntu bionic-security/universe amd64 Packages [717 kB]\n",
            "Get:18 http://archive.ubuntu.com/ubuntu bionic-updates/multiverse amd64 Packages [7,239 B]\n",
            "Get:19 http://archive.ubuntu.com/ubuntu bionic-updates/universe amd64 Packages [1,220 kB]\n",
            "Get:20 http://security.ubuntu.com/ubuntu bionic-security/multiverse amd64 Packages [4,169 B]\n",
            "Get:21 http://security.ubuntu.com/ubuntu bionic-security/main amd64 Packages [535 kB]\n",
            "Get:22 http://archive.ubuntu.com/ubuntu bionic-updates/main amd64 Packages [854 kB]\n",
            "Get:23 http://archive.ubuntu.com/ubuntu bionic-backports/universe amd64 Packages [3,918 B]\n",
            "Get:24 http://ppa.launchpad.net/marutter/c2d4u3.5/ubuntu bionic/main amd64 Packages [791 kB]\n",
            "Fetched 6,164 kB in 3s (2,047 kB/s)\n",
            "Reading package lists... Done\n",
            "Reading package lists... Done\n",
            "Building dependency tree       \n",
            "Reading state information... Done\n",
            "python-dev is already the newest version (2.7.15~rc1-1).\n",
            "python3-dev is already the newest version (3.6.7-1~18.04).\n",
            "The following package was automatically installed and is no longer required:\n",
            "  libnvidia-common-410\n",
            "Use 'apt autoremove' to remove it.\n",
            "The following additional packages will be installed:\n",
            "  cpp fonts-dejavu-core fonts-dejavu-extra gcc libatk-wrapper-java\n",
            "  libatk-wrapper-java-jni libgail-common libgail18 libgtk2.0-0 libgtk2.0-bin\n",
            "  libgtk2.0-common libxxf86dga1 openjdk-8-jre x11-utils\n",
            "Suggested packages:\n",
            "  cpp-doc g++-multilib gcc-multilib autoconf automake libtool flex bison gdb\n",
            "  gcc-doc gvfs openjdk-8-demo openjdk-8-source visualvm icedtea-8-plugin\n",
            "  mesa-utils\n",
            "The following NEW packages will be installed:\n",
            "  fonts-dejavu-core fonts-dejavu-extra libatk-wrapper-java\n",
            "  libatk-wrapper-java-jni libgail-common libgail18 libgtk2.0-0 libgtk2.0-bin\n",
            "  libgtk2.0-common libxxf86dga1 openjdk-8-jdk openjdk-8-jre x11-utils\n",
            "The following packages will be upgraded:\n",
            "  cpp g++ gcc\n",
            "3 upgraded, 13 newly installed, 0 to remove and 118 not upgraded.\n",
            "Need to get 6,881 kB of archives.\n",
            "After this operation, 19.8 MB of additional disk space will be used.\n",
            "Get:1 http://archive.ubuntu.com/ubuntu bionic/main amd64 libxxf86dga1 amd64 2:1.1.4-1 [13.7 kB]\n",
            "Get:2 http://archive.ubuntu.com/ubuntu bionic-updates/main amd64 cpp amd64 4:7.4.0-1ubuntu2.3 [27.7 kB]\n",
            "Get:3 http://archive.ubuntu.com/ubuntu bionic/main amd64 fonts-dejavu-core all 2.37-1 [1,041 kB]\n",
            "Get:4 http://archive.ubuntu.com/ubuntu bionic/main amd64 fonts-dejavu-extra all 2.37-1 [1,953 kB]\n",
            "Get:5 http://archive.ubuntu.com/ubuntu bionic-updates/main amd64 gcc amd64 4:7.4.0-1ubuntu2.3 [5,184 B]\n",
            "Get:6 http://archive.ubuntu.com/ubuntu bionic-updates/main amd64 g++ amd64 4:7.4.0-1ubuntu2.3 [1,568 B]\n",
            "Get:7 http://archive.ubuntu.com/ubuntu bionic/main amd64 x11-utils amd64 7.7+3build1 [196 kB]\n",
            "Get:8 http://archive.ubuntu.com/ubuntu bionic/main amd64 libatk-wrapper-java all 0.33.3-20ubuntu0.1 [34.7 kB]\n",
            "Get:9 http://archive.ubuntu.com/ubuntu bionic/main amd64 libatk-wrapper-java-jni amd64 0.33.3-20ubuntu0.1 [28.3 kB]\n",
            "Get:10 http://archive.ubuntu.com/ubuntu bionic/main amd64 libgtk2.0-common all 2.24.32-1ubuntu1 [125 kB]\n",
            "Get:11 http://archive.ubuntu.com/ubuntu bionic/main amd64 libgtk2.0-0 amd64 2.24.32-1ubuntu1 [1,769 kB]\n",
            "Get:12 http://archive.ubuntu.com/ubuntu bionic/main amd64 libgail18 amd64 2.24.32-1ubuntu1 [14.2 kB]\n",
            "Get:13 http://archive.ubuntu.com/ubuntu bionic/main amd64 libgail-common amd64 2.24.32-1ubuntu1 [112 kB]\n",
            "Get:14 http://archive.ubuntu.com/ubuntu bionic/main amd64 libgtk2.0-bin amd64 2.24.32-1ubuntu1 [7,536 B]\n",
            "Get:15 http://archive.ubuntu.com/ubuntu bionic-updates/universe amd64 openjdk-8-jre amd64 8u212-b03-0ubuntu1.18.04.1 [69.4 kB]\n",
            "Get:16 http://archive.ubuntu.com/ubuntu bionic-updates/universe amd64 openjdk-8-jdk amd64 8u212-b03-0ubuntu1.18.04.1 [1,483 kB]\n",
            "Fetched 6,881 kB in 2s (4,339 kB/s)\n",
            "Selecting previously unselected package libxxf86dga1:amd64.\n",
            "(Reading database ... 130912 files and directories currently installed.)\n",
            "Preparing to unpack .../00-libxxf86dga1_2%3a1.1.4-1_amd64.deb ...\n",
            "Unpacking libxxf86dga1:amd64 (2:1.1.4-1) ...\n",
            "Preparing to unpack .../01-cpp_4%3a7.4.0-1ubuntu2.3_amd64.deb ...\n",
            "Unpacking cpp (4:7.4.0-1ubuntu2.3) over (4:7.4.0-1ubuntu2.2) ...\n",
            "Selecting previously unselected package fonts-dejavu-core.\n",
            "Preparing to unpack .../02-fonts-dejavu-core_2.37-1_all.deb ...\n",
            "Unpacking fonts-dejavu-core (2.37-1) ...\n",
            "Selecting previously unselected package fonts-dejavu-extra.\n",
            "Preparing to unpack .../03-fonts-dejavu-extra_2.37-1_all.deb ...\n",
            "Unpacking fonts-dejavu-extra (2.37-1) ...\n",
            "Preparing to unpack .../04-gcc_4%3a7.4.0-1ubuntu2.3_amd64.deb ...\n",
            "Unpacking gcc (4:7.4.0-1ubuntu2.3) over (4:7.4.0-1ubuntu2.2) ...\n",
            "Preparing to unpack .../05-g++_4%3a7.4.0-1ubuntu2.3_amd64.deb ...\n",
            "Unpacking g++ (4:7.4.0-1ubuntu2.3) over (4:7.4.0-1ubuntu2.2) ...\n",
            "Selecting previously unselected package x11-utils.\n",
            "Preparing to unpack .../06-x11-utils_7.7+3build1_amd64.deb ...\n",
            "Unpacking x11-utils (7.7+3build1) ...\n",
            "Selecting previously unselected package libatk-wrapper-java.\n",
            "Preparing to unpack .../07-libatk-wrapper-java_0.33.3-20ubuntu0.1_all.deb ...\n",
            "Unpacking libatk-wrapper-java (0.33.3-20ubuntu0.1) ...\n",
            "Selecting previously unselected package libatk-wrapper-java-jni:amd64.\n",
            "Preparing to unpack .../08-libatk-wrapper-java-jni_0.33.3-20ubuntu0.1_amd64.deb ...\n",
            "Unpacking libatk-wrapper-java-jni:amd64 (0.33.3-20ubuntu0.1) ...\n",
            "Selecting previously unselected package libgtk2.0-common.\n",
            "Preparing to unpack .../09-libgtk2.0-common_2.24.32-1ubuntu1_all.deb ...\n",
            "Unpacking libgtk2.0-common (2.24.32-1ubuntu1) ...\n",
            "Selecting previously unselected package libgtk2.0-0:amd64.\n",
            "Preparing to unpack .../10-libgtk2.0-0_2.24.32-1ubuntu1_amd64.deb ...\n",
            "Unpacking libgtk2.0-0:amd64 (2.24.32-1ubuntu1) ...\n",
            "Selecting previously unselected package libgail18:amd64.\n",
            "Preparing to unpack .../11-libgail18_2.24.32-1ubuntu1_amd64.deb ...\n",
            "Unpacking libgail18:amd64 (2.24.32-1ubuntu1) ...\n",
            "Selecting previously unselected package libgail-common:amd64.\n",
            "Preparing to unpack .../12-libgail-common_2.24.32-1ubuntu1_amd64.deb ...\n",
            "Unpacking libgail-common:amd64 (2.24.32-1ubuntu1) ...\n",
            "Selecting previously unselected package libgtk2.0-bin.\n",
            "Preparing to unpack .../13-libgtk2.0-bin_2.24.32-1ubuntu1_amd64.deb ...\n",
            "Unpacking libgtk2.0-bin (2.24.32-1ubuntu1) ...\n",
            "Selecting previously unselected package openjdk-8-jre:amd64.\n",
            "Preparing to unpack .../14-openjdk-8-jre_8u212-b03-0ubuntu1.18.04.1_amd64.deb ...\n",
            "Unpacking openjdk-8-jre:amd64 (8u212-b03-0ubuntu1.18.04.1) ...\n",
            "Selecting previously unselected package openjdk-8-jdk:amd64.\n",
            "Preparing to unpack .../15-openjdk-8-jdk_8u212-b03-0ubuntu1.18.04.1_amd64.deb ...\n",
            "Unpacking openjdk-8-jdk:amd64 (8u212-b03-0ubuntu1.18.04.1) ...\n",
            "Setting up cpp (4:7.4.0-1ubuntu2.3) ...\n",
            "Setting up libgtk2.0-common (2.24.32-1ubuntu1) ...\n",
            "Processing triggers for mime-support (3.60ubuntu1) ...\n",
            "Setting up fonts-dejavu-core (2.37-1) ...\n",
            "Setting up gcc (4:7.4.0-1ubuntu2.3) ...\n",
            "Setting up libxxf86dga1:amd64 (2:1.1.4-1) ...\n",
            "Processing triggers for libc-bin (2.27-3ubuntu1) ...\n",
            "Processing triggers for man-db (2.8.3-2ubuntu0.1) ...\n",
            "Setting up g++ (4:7.4.0-1ubuntu2.3) ...\n",
            "Setting up fonts-dejavu-extra (2.37-1) ...\n",
            "Processing triggers for hicolor-icon-theme (0.17-2) ...\n",
            "Processing triggers for fontconfig (2.12.6-0ubuntu2) ...\n",
            "Setting up libgtk2.0-0:amd64 (2.24.32-1ubuntu1) ...\n",
            "Setting up libgail18:amd64 (2.24.32-1ubuntu1) ...\n",
            "Setting up x11-utils (7.7+3build1) ...\n",
            "Setting up libgail-common:amd64 (2.24.32-1ubuntu1) ...\n",
            "Setting up libatk-wrapper-java (0.33.3-20ubuntu0.1) ...\n",
            "Setting up libgtk2.0-bin (2.24.32-1ubuntu1) ...\n",
            "Setting up libatk-wrapper-java-jni:amd64 (0.33.3-20ubuntu0.1) ...\n",
            "Setting up openjdk-8-jre:amd64 (8u212-b03-0ubuntu1.18.04.1) ...\n",
            "update-alternatives: using /usr/lib/jvm/java-8-openjdk-amd64/jre/bin/policytool to provide /usr/bin/policytool (policytool) in auto mode\n",
            "Setting up openjdk-8-jdk:amd64 (8u212-b03-0ubuntu1.18.04.1) ...\n",
            "update-alternatives: using /usr/lib/jvm/java-8-openjdk-amd64/bin/appletviewer to provide /usr/bin/appletviewer (appletviewer) in auto mode\n",
            "update-alternatives: using /usr/lib/jvm/java-8-openjdk-amd64/bin/jconsole to provide /usr/bin/jconsole (jconsole) in auto mode\n",
            "Processing triggers for libc-bin (2.27-3ubuntu1) ...\n",
            "Collecting JPype1-py3\n",
            "\u001b[?25l  Downloading https://files.pythonhosted.org/packages/9b/81/63f5e4202c598f362ee4684b41890f993d6e58309c5d90703f570ab85f62/JPype1-py3-0.5.5.4.tar.gz (88kB)\n",
            "\u001b[K     |████████████████████████████████| 92kB 4.1MB/s \n",
            "\u001b[?25hBuilding wheels for collected packages: JPype1-py3\n",
            "  Building wheel for JPype1-py3 (setup.py) ... \u001b[?25l\u001b[?25hdone\n",
            "  Stored in directory: /root/.cache/pip/wheels/52/37/1f/1015d908d12a0e9b239543d031fda0cded9823aa1306939541\n",
            "Successfully built JPype1-py3\n",
            "Installing collected packages: JPype1-py3\n",
            "Successfully installed JPype1-py3-0.5.5.4\n",
            "Collecting konlpy\n",
            "\u001b[?25l  Downloading https://files.pythonhosted.org/packages/e5/3d/4e983cd98d87b50b2ab0387d73fa946f745aa8164e8888a714d5129f9765/konlpy-0.5.1-py2.py3-none-any.whl (19.4MB)\n",
            "\u001b[K     |████████████████████████████████| 19.4MB 3.3MB/s \n",
            "\u001b[?25hCollecting JPype1>=0.5.7 (from konlpy)\n",
            "\u001b[?25l  Downloading https://files.pythonhosted.org/packages/c4/4b/60a3e63d51714d4d7ef1b1efdf84315d118a0a80a5b085bb52a7e2428cdc/JPype1-0.6.3.tar.gz (168kB)\n",
            "\u001b[K     |████████████████████████████████| 174kB 47.3MB/s \n",
            "\u001b[?25hBuilding wheels for collected packages: JPype1\n",
            "  Building wheel for JPype1 (setup.py) ... \u001b[?25l\u001b[?25hdone\n",
            "  Stored in directory: /root/.cache/pip/wheels/0e/2b/e8/c0b818ac4b3d35104d35e48cdc7afe27fc06ea277feed2831a\n",
            "Successfully built JPype1\n",
            "Installing collected packages: JPype1, konlpy\n",
            "Successfully installed JPype1-0.6.3 konlpy-0.5.1\n"
          ],
          "name": "stdout"
        }
      ]
    },
    {
      "cell_type": "code",
      "metadata": {
        "id": "lqJmU3EzsQXu",
        "colab_type": "code",
        "colab": {}
      },
      "source": [
        "import konlpy"
      ],
      "execution_count": 0,
      "outputs": []
    },
    {
      "cell_type": "code",
      "metadata": {
        "id": "ETg6tqHxs_YE",
        "colab_type": "code",
        "outputId": "f3f6577d-e811-46c6-e3a0-37acecea43fe",
        "colab": {
          "base_uri": "https://localhost:8080/",
          "height": 1175
        }
      },
      "source": [
        "df.distributor.value_counts()"
      ],
      "execution_count": 0,
      "outputs": [
        {
          "output_type": "execute_result",
          "data": {
            "text/plain": [
              "CJ 엔터테인먼트          85\n",
              "롯데엔터테인먼트           76\n",
              "(주)마운틴픽쳐스          43\n",
              "(주)쇼박스             38\n",
              "인디스토리              37\n",
              "(주)NEW             36\n",
              "골든타이드픽처스           27\n",
              "(주) 케이알씨지          19\n",
              "(주)키노아이            15\n",
              "KT&G 상상마당          14\n",
              "시네마달               13\n",
              "어뮤즈                13\n",
              "인디플러그              12\n",
              "(주) 영화사조제          12\n",
              "인벤트 디              12\n",
              "영화사 진진             12\n",
              "NEW                12\n",
              "시너지                11\n",
              "시네마 달              10\n",
              "(주)팝엔터테인먼트         10\n",
              "무비꼴라쥬               9\n",
              "리틀빅픽처스              8\n",
              "BoXoo 엔터테인먼트        8\n",
              "CGV아트하우스            7\n",
              "나이너스엔터테인먼트(주)       7\n",
              "필라멘트 픽쳐스            7\n",
              "스폰지                 7\n",
              "시네마서비스              7\n",
              "메가박스(주)플러스엠         5\n",
              "싸이더스                5\n",
              "                   ..\n",
              "타임스토리               1\n",
              "건시네마                1\n",
              "노근리 프로덕션            1\n",
              "고구마공작소              1\n",
              "(주)이스트스카이필름         1\n",
              "(주)피터팬픽쳐스           1\n",
              "필마픽쳐스               1\n",
              "(주)아이필름코퍼레이션        1\n",
              "프로젝트 엠피             1\n",
              "(주)씨타마운틴픽쳐스         1\n",
              "프리비젼 엔터테인먼트         1\n",
              "갑종필름                1\n",
              "머스트 씨 무비            1\n",
              "메가박스중앙(주)플러스엠       1\n",
              "(주)콘텐츠 윙            1\n",
              "주머니필름               1\n",
              "리아코어콘텐츠             1\n",
              "(주)대명문화공장           1\n",
              "(주)유비콘텐츠            1\n",
              "나우콘텐츠               1\n",
              "인피니티엔터테인먼트          1\n",
              "핑크로봇 필름             1\n",
              "OAL(올)              1\n",
              "전주국제영화제             1\n",
              "전망좋은영화사             1\n",
              "(주)랠리버튼             1\n",
              "청년필름                1\n",
              "(주)드림팩트엔터테인먼트       1\n",
              "유니버설픽쳐스인터내셔널코리아     1\n",
              "비에이치제이 시네마          1\n",
              "Name: distributor, Length: 204, dtype: int64"
            ]
          },
          "metadata": {
            "tags": []
          },
          "execution_count": 15
        }
      ]
    },
    {
      "cell_type": "code",
      "metadata": {
        "id": "dE5gCU88tCJw",
        "colab_type": "code",
        "outputId": "f29bb43f-174d-4c54-9b07-614ccf6d691f",
        "colab": {
          "base_uri": "https://localhost:8080/",
          "height": 913
        }
      },
      "source": [
        "for i in df.distributor.tolist():\n",
        "  if \"NEW\" in i :\n",
        "    print(i)"
      ],
      "execution_count": 0,
      "outputs": [
        {
          "output_type": "stream",
          "text": [
            "(주)NEW\n",
            "(주)NEW\n",
            "NEW\n",
            "(주)NEW\n",
            "(주)NEW\n",
            "(주)NEW\n",
            "NEW\n",
            "NEW\n",
            "(주)NEW\n",
            "(주)NEW\n",
            "(주)NEW\n",
            "(주)NEW\n",
            "NEW\n",
            "(주)NEW\n",
            "(주)NEW\n",
            "(주)NEW\n",
            "(주)NEW\n",
            "(주)NEW\n",
            "(주)NEW\n",
            "NEW\n",
            "(주)NEW\n",
            "(주)NEW\n",
            "NEW\n",
            "NEW\n",
            "(주)NEW\n",
            "(주)NEW\n",
            "NEW\n",
            "(주)NEW\n",
            "(주)NEW\n",
            "(주)NEW\n",
            "(주)NEW\n",
            "(주)NEW\n",
            "(주)NEW\n",
            "(주)NEW\n",
            "(주)NEW\n",
            "(주)NEW\n",
            "(주)NEW\n",
            "(주)NEW\n",
            "NEW\n",
            "NEW\n",
            "(주)NEW\n",
            "(주)NEW\n",
            "(주)NEW\n",
            "(주)NEW\n",
            "NEW\n",
            "NEW\n",
            "(주)NEW\n",
            "(주)NEW\n"
          ],
          "name": "stdout"
        }
      ]
    },
    {
      "cell_type": "markdown",
      "metadata": {
        "id": "ssXeSxe0tSQ7",
        "colab_type": "text"
      },
      "source": [
        "- Class 개수가 너무 많다. -> 묶을 수 있는 배급사끼리 묶어 보자. ex) (주)New, New는 하나로"
      ]
    },
    {
      "cell_type": "code",
      "metadata": {
        "id": "6UMFY1IQtSwP",
        "colab_type": "code",
        "outputId": "13894239-6901-4d61-ab2a-fd5726ee24ec",
        "colab": {
          "base_uri": "https://localhost:8080/",
          "height": 55
        }
      },
      "source": [
        "import re\n",
        "def preprocessing(text):\n",
        "    # 개행문자 제거\n",
        "    text = re.sub(r'\\([^)]*\\)', '', str(text).strip())\n",
        "    return text\n",
        "\n",
        "from konlpy.tag import Twitter\n",
        "pos_tagger = Twitter()"
      ],
      "execution_count": 0,
      "outputs": [
        {
          "output_type": "stream",
          "text": [
            "/usr/local/lib/python3.6/dist-packages/konlpy/tag/_okt.py:16: UserWarning: \"Twitter\" has changed to \"Okt\" since KoNLPy v0.4.5.\n",
            "  warn('\"Twitter\" has changed to \"Okt\" since KoNLPy v0.4.5.')\n"
          ],
          "name": "stderr"
        }
      ]
    },
    {
      "cell_type": "code",
      "metadata": {
        "id": "Tiq-fMcztWG3",
        "colab_type": "code",
        "outputId": "f28fb810-16f7-461a-cdb2-b0c697e91c2d",
        "colab": {
          "base_uri": "https://localhost:8080/",
          "height": 1175
        }
      },
      "source": [
        "\n",
        "df.distributor.apply(preprocessing).apply(lambda x: pos_tagger.morphs(x)[0]).value_counts()"
      ],
      "execution_count": 0,
      "outputs": [
        {
          "output_type": "execute_result",
          "data": {
            "text/plain": [
              "CJ        92\n",
              "롯데        77\n",
              "NEW       48\n",
              "마운틴       47\n",
              "쇼박스       42\n",
              "인디스토리     37\n",
              "영화사       28\n",
              "골든        27\n",
              "시네마       25\n",
              "케이        19\n",
              "KT        17\n",
              "키노아이      15\n",
              "어뮤즈       13\n",
              "인         12\n",
              "리틀        12\n",
              "인디        12\n",
              "팝         11\n",
              "시너지       11\n",
              "CGV       10\n",
              "무비         9\n",
              "BoXoo      8\n",
              "드림         8\n",
              "싸이더스       7\n",
              "나이         7\n",
              "시네마서비스     7\n",
              "씨          7\n",
              "필라멘트       7\n",
              "스폰지        7\n",
              "마인         6\n",
              "메가박스       6\n",
              "          ..\n",
              "아이         1\n",
              "필름         1\n",
              "인터         1\n",
              "팜          1\n",
              "새          1\n",
              "사람과        1\n",
              "스크린        1\n",
              "와이드        1\n",
              "노근리        1\n",
              "이상우        1\n",
              "이스트        1\n",
              "루스         1\n",
              "동국대학교      1\n",
              "핑크         1\n",
              "판          1\n",
              "피터         1\n",
              "전주         1\n",
              "나우         1\n",
              "스마일        1\n",
              "루          1\n",
              "미라클        1\n",
              "필마픽쳐스      1\n",
              "프로젝트       1\n",
              "영희         1\n",
              "굿픽처스       1\n",
              "KBS        1\n",
              "디마         1\n",
              "영구아트무비     1\n",
              "퍼스트        1\n",
              "갑종         1\n",
              "Name: distributor, Length: 158, dtype: int64"
            ]
          },
          "metadata": {
            "tags": []
          },
          "execution_count": 18
        }
      ]
    },
    {
      "cell_type": "code",
      "metadata": {
        "id": "coMoRLWGtdKG",
        "colab_type": "code",
        "colab": {}
      },
      "source": [
        "df.distributor = df.distributor.apply(preprocessing).apply(lambda x: pos_tagger.morphs(x)[0])\n",
        "train_df.distributor = train_df.distributor.apply(preprocessing).apply(lambda x: pos_tagger.morphs(x)[0])\n",
        "test_df.distributor = test_df.distributor.apply(preprocessing).apply(lambda x: pos_tagger.morphs(x)[0])"
      ],
      "execution_count": 0,
      "outputs": []
    },
    {
      "cell_type": "code",
      "metadata": {
        "id": "rcUVoMk8te9t",
        "colab_type": "code",
        "outputId": "46bd4aae-2756-41d2-8049-fd0cd6731995",
        "colab": {
          "base_uri": "https://localhost:8080/",
          "height": 302
        }
      },
      "source": [
        "sns.countplot(df.distributor)"
      ],
      "execution_count": 0,
      "outputs": [
        {
          "output_type": "execute_result",
          "data": {
            "text/plain": [
              "<matplotlib.axes._subplots.AxesSubplot at 0x7fdcdca47908>"
            ]
          },
          "metadata": {
            "tags": []
          },
          "execution_count": 20
        },
        {
          "output_type": "display_data",
          "data": {
            "image/png": "[encoded data removed]",
            "text/plain": [
              "<Figure size 432x288 with 1 Axes>"
            ]
          },
          "metadata": {
            "tags": []
          }
        }
      ]
    },
    {
      "cell_type": "code",
      "metadata": {
        "id": "x-QPouqttgKz",
        "colab_type": "code",
        "colab": {}
      },
      "source": [
        "test_distributor = set(test_df.distributor.unique())\n",
        "train_distributor = set(train_df.distributor.unique())\n",
        "inter_distributor =  list(train_distributor.intersection(test_distributor))\n",
        "\n",
        "target_distributor = []\n",
        "for di in inter_distributor:\n",
        "    if train_df[train_df.distributor == di]['box_off_num'].mean() > train_df['box_off_num'].mean():\n",
        "        target_distributor.append(di)"
      ],
      "execution_count": 0,
      "outputs": []
    },
    {
      "cell_type": "code",
      "metadata": {
        "id": "gSWZeCgHthzc",
        "colab_type": "code",
        "outputId": "a06a687b-1b9d-415e-adf0-9b7e58342825",
        "colab": {
          "base_uri": "https://localhost:8080/",
          "height": 36
        }
      },
      "source": [
        "\n",
        "len(target_distributor)"
      ],
      "execution_count": 0,
      "outputs": [
        {
          "output_type": "execute_result",
          "data": {
            "text/plain": [
              "8"
            ]
          },
          "metadata": {
            "tags": []
          },
          "execution_count": 22
        }
      ]
    },
    {
      "cell_type": "code",
      "metadata": {
        "id": "heCV6Kd_tjYR",
        "colab_type": "code",
        "outputId": "255ff174-db6e-4312-b5e7-482ab73ca687",
        "colab": {
          "base_uri": "https://localhost:8080/",
          "height": 167
        }
      },
      "source": [
        "\n",
        "\n",
        "distributor_dict = dict((i,j) for i,j in zip(target_distributor, [i for i in range(len(target_distributor))]))\n",
        "distributor_dict"
      ],
      "execution_count": 0,
      "outputs": [
        {
          "output_type": "execute_result",
          "data": {
            "text/plain": [
              "{'CGV': 5,\n",
              " 'CJ': 6,\n",
              " 'NEW': 2,\n",
              " '롯데': 4,\n",
              " '쇼박스': 0,\n",
              " '시네마서비스': 3,\n",
              " '씨너스': 1,\n",
              " '이십': 7}"
            ]
          },
          "metadata": {
            "tags": []
          },
          "execution_count": 23
        }
      ]
    },
    {
      "cell_type": "code",
      "metadata": {
        "id": "VQgSG56Xtksx",
        "colab_type": "code",
        "colab": {}
      },
      "source": [
        "df.distributor = df.distributor.replace(distributor_dict).apply(lambda x : x if str(x).isdigit() else len(target_distributor)).astype(\"object\")\n",
        "train_df.distributor = train_df.distributor.replace(distributor_dict).apply(lambda x : x if str(x).isdigit() else len(target_distributor)).astype(\"object\")\n",
        "test_df.distributor = test_df.distributor.replace(distributor_dict).apply(lambda x : x if str(x).isdigit() else len(target_distributor)).astype(\"object\")"
      ],
      "execution_count": 0,
      "outputs": []
    },
    {
      "cell_type": "code",
      "metadata": {
        "id": "8G6Vhl0OtnAF",
        "colab_type": "code",
        "outputId": "e94f01fb-bec5-42f2-9385-21de735ee7a6",
        "colab": {
          "base_uri": "https://localhost:8080/",
          "height": 204
        }
      },
      "source": [
        "df.distributor.value_counts()"
      ],
      "execution_count": 0,
      "outputs": [
        {
          "output_type": "execute_result",
          "data": {
            "text/plain": [
              "8    558\n",
              "6     92\n",
              "4     77\n",
              "2     48\n",
              "0     42\n",
              "5     10\n",
              "3      7\n",
              "1      5\n",
              "7      4\n",
              "Name: distributor, dtype: int64"
            ]
          },
          "metadata": {
            "tags": []
          },
          "execution_count": 25
        }
      ]
    },
    {
      "cell_type": "code",
      "metadata": {
        "id": "W0mve6HatqTE",
        "colab_type": "code",
        "outputId": "8910402f-8fef-41c9-f6f1-c7652a952692",
        "colab": {
          "base_uri": "https://localhost:8080/",
          "height": 223
        }
      },
      "source": [
        "train_df.groupby('distributor')['box_off_num'].mean().astype('int')"
      ],
      "execution_count": 0,
      "outputs": [
        {
          "output_type": "execute_result",
          "data": {
            "text/plain": [
              "distributor\n",
              "0    3332953\n",
              "1     723307\n",
              "2    1939059\n",
              "3     896843\n",
              "4    1238148\n",
              "5     995573\n",
              "6    2209296\n",
              "7    1637046\n",
              "8      99278\n",
              "Name: box_off_num, dtype: int64"
            ]
          },
          "metadata": {
            "tags": []
          },
          "execution_count": 26
        }
      ]
    },
    {
      "cell_type": "markdown",
      "metadata": {
        "id": "Gj-__e0RtvJI",
        "colab_type": "text"
      },
      "source": [
        "# 3 genre : 장르"
      ]
    },
    {
      "cell_type": "code",
      "metadata": {
        "id": "hmn7l-sytw7e",
        "colab_type": "code",
        "outputId": "ce809ab1-7196-4380-dcee-8ceab3245d85",
        "colab": {
          "base_uri": "https://localhost:8080/",
          "height": 260
        }
      },
      "source": [
        "df.genre.value_counts()"
      ],
      "execution_count": 0,
      "outputs": [
        {
          "output_type": "execute_result",
          "data": {
            "text/plain": [
              "드라마       299\n",
              "다큐멘터리     126\n",
              "멜로/로맨스    117\n",
              "코미디        76\n",
              "공포         61\n",
              "액션         49\n",
              "느와르        39\n",
              "애니메이션      29\n",
              "미스터리       24\n",
              "SF         14\n",
              "뮤지컬         6\n",
              "서스펜스        3\n",
              "Name: genre, dtype: int64"
            ]
          },
          "metadata": {
            "tags": []
          },
          "execution_count": 27
        }
      ]
    },
    {
      "cell_type": "code",
      "metadata": {
        "id": "BpKeI3BktyNp",
        "colab_type": "code",
        "outputId": "bf4c80ac-6ef2-4335-d3a3-665cd864b4e6",
        "colab": {
          "base_uri": "https://localhost:8080/",
          "height": 279
        }
      },
      "source": [
        "train_df.groupby('genre')['box_off_num'].mean().astype(\"int\")"
      ],
      "execution_count": 0,
      "outputs": [
        {
          "output_type": "execute_result",
          "data": {
            "text/plain": [
              "genre\n",
              "SF        1788345\n",
              "공포         590832\n",
              "느와르       2263695\n",
              "다큐멘터리       67172\n",
              "드라마        625689\n",
              "멜로/로맨스     425968\n",
              "뮤지컬          6627\n",
              "미스터리       527548\n",
              "서스펜스        82611\n",
              "애니메이션      181926\n",
              "액션        2203974\n",
              "코미디       1193914\n",
              "Name: box_off_num, dtype: int64"
            ]
          },
          "metadata": {
            "tags": []
          },
          "execution_count": 28
        }
      ]
    },
    {
      "cell_type": "code",
      "metadata": {
        "id": "7qpOxyiVt0Ms",
        "colab_type": "code",
        "outputId": "98c503c2-640d-4982-a495-52f8c5ff4252",
        "colab": {
          "base_uri": "https://localhost:8080/",
          "height": 302
        }
      },
      "source": [
        "sns.countplot(df.genre)"
      ],
      "execution_count": 0,
      "outputs": [
        {
          "output_type": "execute_result",
          "data": {
            "text/plain": [
              "<matplotlib.axes._subplots.AxesSubplot at 0x7fdcdca47048>"
            ]
          },
          "metadata": {
            "tags": []
          },
          "execution_count": 29
        },
        {
          "output_type": "display_data",
          "data": {
            "image/png": "[encoded data removed]",
            "text/plain": [
              "<Figure size 432x288 with 1 Axes>"
            ]
          },
          "metadata": {
            "tags": []
          }
        }
      ]
    },
    {
      "cell_type": "code",
      "metadata": {
        "id": "GY20l3npt13x",
        "colab_type": "code",
        "outputId": "f3bdb194-baa6-4a4e-b509-c2e5dca73f97",
        "colab": {
          "base_uri": "https://localhost:8080/",
          "height": 56
        }
      },
      "source": [
        "\n",
        "genre_dict = dict((i,j) for i,j in zip(df.genre.value_counts().index.format(), [i for i in range(12)]))\n",
        "print(genre_dict)\n",
        "df.genre = df.genre.replace(genre_dict).astype('object')"
      ],
      "execution_count": 0,
      "outputs": [
        {
          "output_type": "stream",
          "text": [
            "{'드라마': 0, '다큐멘터리': 1, '멜로/로맨스': 2, '코미디': 3, '공포': 4, '액션': 5, '느와르': 6, '애니메이션': 7, '미스터리': 8, 'SF': 9, '뮤지컬': 10, '서스펜스': 11}\n"
          ],
          "name": "stdout"
        }
      ]
    },
    {
      "cell_type": "code",
      "metadata": {
        "id": "5tUEDGnzt_Tk",
        "colab_type": "code",
        "outputId": "1170656a-3ff0-4ea4-f1f9-6cc47ef35ca3",
        "colab": {
          "base_uri": "https://localhost:8080/",
          "height": 241
        }
      },
      "source": [
        "df.genre = df.genre.replace({11:10}).astype('object')\n",
        "df.genre.value_counts()"
      ],
      "execution_count": 0,
      "outputs": [
        {
          "output_type": "execute_result",
          "data": {
            "text/plain": [
              "0     299\n",
              "1     126\n",
              "2     117\n",
              "3      76\n",
              "4      61\n",
              "5      49\n",
              "6      39\n",
              "7      29\n",
              "8      24\n",
              "9      14\n",
              "10      9\n",
              "Name: genre, dtype: int64"
            ]
          },
          "metadata": {
            "tags": []
          },
          "execution_count": 31
        }
      ]
    },
    {
      "cell_type": "markdown",
      "metadata": {
        "id": "SMkQr-gJuFVk",
        "colab_type": "text"
      },
      "source": [
        "# 4 release_time : 개봉일"
      ]
    },
    {
      "cell_type": "code",
      "metadata": {
        "id": "1j02BsIuuFyY",
        "colab_type": "code",
        "colab": {}
      },
      "source": [
        "df[\"release_time_year\"] = df.release_time.apply(lambda x : x[:4]).astype('object')\n",
        "df[\"release_time_month\"] = df.release_time.apply(lambda x : x[5:7]).astype('object')\n",
        "train_df[\"release_time_year\"] = train_df.release_time.apply(lambda x : x[:4]).astype('object')\n",
        "train_df[\"release_time_month\"] = train_df.release_time.apply(lambda x : x[5:7]).astype('object')\n",
        "test_df[\"release_time_year\"] = test_df.release_time.apply(lambda x : x[:4]).astype('object')\n",
        "test_df[\"release_time_month\"] = test_df.release_time.apply(lambda x : x[5:7]).astype('object')"
      ],
      "execution_count": 0,
      "outputs": []
    },
    {
      "cell_type": "code",
      "metadata": {
        "id": "Eu0sgPgrxJBd",
        "colab_type": "code",
        "colab": {}
      },
      "source": [
        "\n",
        "del df['release_time']"
      ],
      "execution_count": 0,
      "outputs": []
    },
    {
      "cell_type": "code",
      "metadata": {
        "id": "W3NbwOtVuHm5",
        "colab_type": "code",
        "outputId": "d7ed5574-2e97-4d08-b9ba-0fbbd7c02590",
        "colab": {
          "base_uri": "https://localhost:8080/",
          "height": 148
        }
      },
      "source": [
        "df.release_time_year.value_counts()"
      ],
      "execution_count": 0,
      "outputs": [
        {
          "output_type": "execute_result",
          "data": {
            "text/plain": [
              "2014    177\n",
              "2015    171\n",
              "2013    130\n",
              "2010    124\n",
              "2012    124\n",
              "2011    117\n",
              "Name: release_time_year, dtype: int64"
            ]
          },
          "metadata": {
            "tags": []
          },
          "execution_count": 34
        }
      ]
    },
    {
      "cell_type": "code",
      "metadata": {
        "id": "lhVg16OSuIvN",
        "colab_type": "code",
        "outputId": "4c8b2253-cdf3-4d6f-a671-909073e79d1f",
        "colab": {
          "base_uri": "https://localhost:8080/",
          "height": 303
        }
      },
      "source": [
        "sns.countplot(df.release_time_year)"
      ],
      "execution_count": 0,
      "outputs": [
        {
          "output_type": "execute_result",
          "data": {
            "text/plain": [
              "<matplotlib.axes._subplots.AxesSubplot at 0x7fdcdbec96d8>"
            ]
          },
          "metadata": {
            "tags": []
          },
          "execution_count": 35
        },
        {
          "output_type": "display_data",
          "data": {
            "image/png": "[encoded data removed]",
            "text/plain": [
              "<Figure size 432x288 with 1 Axes>"
            ]
          },
          "metadata": {
            "tags": []
          }
        }
      ]
    },
    {
      "cell_type": "code",
      "metadata": {
        "id": "kV7OXcDcuJ24",
        "colab_type": "code",
        "outputId": "762bb4ba-b477-4f4c-bd3b-5612338c28dc",
        "colab": {
          "base_uri": "https://localhost:8080/",
          "height": 167
        }
      },
      "source": [
        "train_df.groupby(['release_time_year'])['box_off_num'].mean().astype('int')"
      ],
      "execution_count": 0,
      "outputs": [
        {
          "output_type": "execute_result",
          "data": {
            "text/plain": [
              "release_time_year\n",
              "2010     541658\n",
              "2011     628867\n",
              "2012     945725\n",
              "2013    1007357\n",
              "2014     593884\n",
              "2015     595869\n",
              "Name: box_off_num, dtype: int64"
            ]
          },
          "metadata": {
            "tags": []
          },
          "execution_count": 36
        }
      ]
    },
    {
      "cell_type": "code",
      "metadata": {
        "id": "RyIbtdNwuK-3",
        "colab_type": "code",
        "outputId": "20f92cdd-acea-4540-ece8-146cd7976f72",
        "colab": {
          "base_uri": "https://localhost:8080/",
          "height": 260
        }
      },
      "source": [
        "df.release_time_month.value_counts()"
      ],
      "execution_count": 0,
      "outputs": [
        {
          "output_type": "execute_result",
          "data": {
            "text/plain": [
              "11    94\n",
              "10    82\n",
              "09    82\n",
              "12    75\n",
              "03    74\n",
              "08    73\n",
              "05    72\n",
              "04    71\n",
              "07    62\n",
              "01    56\n",
              "06    56\n",
              "02    46\n",
              "Name: release_time_month, dtype: int64"
            ]
          },
          "metadata": {
            "tags": []
          },
          "execution_count": 37
        }
      ]
    },
    {
      "cell_type": "code",
      "metadata": {
        "id": "5ut2FevRuMfL",
        "colab_type": "code",
        "outputId": "dcaa1727-6b8e-48b8-87df-59a3cef9cb54",
        "colab": {
          "base_uri": "https://localhost:8080/",
          "height": 303
        }
      },
      "source": [
        "sns.countplot(df.release_time_month)"
      ],
      "execution_count": 0,
      "outputs": [
        {
          "output_type": "execute_result",
          "data": {
            "text/plain": [
              "<matplotlib.axes._subplots.AxesSubplot at 0x7fdcdbe1ccf8>"
            ]
          },
          "metadata": {
            "tags": []
          },
          "execution_count": 38
        },
        {
          "output_type": "display_data",
          "data": {
            "image/png": "[encoded data removed]",
            "text/plain": [
              "<Figure size 432x288 with 1 Axes>"
            ]
          },
          "metadata": {
            "tags": []
          }
        }
      ]
    },
    {
      "cell_type": "markdown",
      "metadata": {
        "id": "zIqnTqRxuTjf",
        "colab_type": "text"
      },
      "source": [
        "# 5 time : 상영시간(분)"
      ]
    },
    {
      "cell_type": "code",
      "metadata": {
        "id": "ZYapEkjbuUHV",
        "colab_type": "code",
        "colab": {}
      },
      "source": [
        "import seaborn as sns"
      ],
      "execution_count": 0,
      "outputs": []
    },
    {
      "cell_type": "code",
      "metadata": {
        "id": "8icN4ejQuoiT",
        "colab_type": "code",
        "outputId": "8463992d-801e-4e64-f329-b79dda517547",
        "colab": {
          "base_uri": "https://localhost:8080/",
          "height": 302
        }
      },
      "source": [
        "sns.distplot(df['time'])"
      ],
      "execution_count": 0,
      "outputs": [
        {
          "output_type": "execute_result",
          "data": {
            "text/plain": [
              "<matplotlib.axes._subplots.AxesSubplot at 0x7fdcdbecbc50>"
            ]
          },
          "metadata": {
            "tags": []
          },
          "execution_count": 40
        },
        {
          "output_type": "display_data",
          "data": {
            "image/png": "[encoded data removed]",
            "text/plain": [
              "<Figure size 432x288 with 1 Axes>"
            ]
          },
          "metadata": {
            "tags": []
          }
        }
      ]
    },
    {
      "cell_type": "code",
      "metadata": {
        "id": "nAuq0lTKu7lu",
        "colab_type": "code",
        "outputId": "8252204b-5f68-432a-d4c9-0d10573cdead",
        "colab": {
          "base_uri": "https://localhost:8080/",
          "height": 55
        }
      },
      "source": [
        "df[df.time == df.time.max()]['title'] #이 영화가 극단값이여서 찾아보니까 오기입된 값으로 보임."
      ],
      "execution_count": 0,
      "outputs": [
        {
          "output_type": "execute_result",
          "data": {
            "text/plain": [
              "224    슈퍼레이서 엔지\n",
              "Name: title, dtype: object"
            ]
          },
          "metadata": {
            "tags": []
          },
          "execution_count": 41
        }
      ]
    },
    {
      "cell_type": "code",
      "metadata": {
        "id": "-CVpe8Bhuqow",
        "colab_type": "code",
        "colab": {}
      },
      "source": [
        "df.time = df.time.replace({2015 : df.time.mean()})"
      ],
      "execution_count": 0,
      "outputs": []
    },
    {
      "cell_type": "code",
      "metadata": {
        "id": "LQq92To9vAtX",
        "colab_type": "code",
        "outputId": "4323a4f3-edef-4c2c-bea0-e94146b63063",
        "colab": {
          "base_uri": "https://localhost:8080/",
          "height": 302
        }
      },
      "source": [
        "sns.distplot(df['time'])"
      ],
      "execution_count": 0,
      "outputs": [
        {
          "output_type": "execute_result",
          "data": {
            "text/plain": [
              "<matplotlib.axes._subplots.AxesSubplot at 0x7fdcdbc7b9e8>"
            ]
          },
          "metadata": {
            "tags": []
          },
          "execution_count": 43
        },
        {
          "output_type": "display_data",
          "data": {
            "image/png": "[encoded data removed]",
            "text/plain": [
              "<Figure size 432x288 with 1 Axes>"
            ]
          },
          "metadata": {
            "tags": []
          }
        }
      ]
    },
    {
      "cell_type": "markdown",
      "metadata": {
        "id": "HqNjm2pevOuf",
        "colab_type": "text"
      },
      "source": [
        "# 6 screening_rat : 상영등급"
      ]
    },
    {
      "cell_type": "code",
      "metadata": {
        "id": "-9rwD0qrvPSl",
        "colab_type": "code",
        "outputId": "21fcca41-8a48-4061-f96a-e0ae01c8b3af",
        "colab": {
          "base_uri": "https://localhost:8080/",
          "height": 36
        }
      },
      "source": [
        "screening_rat_dict = dict((i,j) for i,j in zip(df.screening_rat.value_counts().index.format(),\n",
        "                                              [_ for _ in range(4)]))\n",
        "screening_rat_dict"
      ],
      "execution_count": 0,
      "outputs": [
        {
          "output_type": "execute_result",
          "data": {
            "text/plain": [
              "{'12세 관람가': 2, '15세 관람가': 1, '전체 관람가': 3, '청소년 관람불가': 0}"
            ]
          },
          "metadata": {
            "tags": []
          },
          "execution_count": 44
        }
      ]
    },
    {
      "cell_type": "code",
      "metadata": {
        "id": "mFIKM1dvvRN9",
        "colab_type": "code",
        "colab": {}
      },
      "source": [
        "df.screening_rat = df.screening_rat.replace(screening_rat_dict).astype('object')\n",
        "train_df.screening_rat = train_df.screening_rat.replace(screening_rat_dict).astype('object')\n",
        "test_df.screening_rat = test_df.screening_rat.replace(screening_rat_dict).astype('object')"
      ],
      "execution_count": 0,
      "outputs": []
    },
    {
      "cell_type": "code",
      "metadata": {
        "id": "kaCEoQFOvSEd",
        "colab_type": "code",
        "outputId": "ee93a4ed-d18e-4238-e257-fa1792c85368",
        "colab": {
          "base_uri": "https://localhost:8080/",
          "height": 111
        }
      },
      "source": [
        "df.screening_rat.value_counts()"
      ],
      "execution_count": 0,
      "outputs": [
        {
          "output_type": "execute_result",
          "data": {
            "text/plain": [
              "0    297\n",
              "1    275\n",
              "2    142\n",
              "3    129\n",
              "Name: screening_rat, dtype: int64"
            ]
          },
          "metadata": {
            "tags": []
          },
          "execution_count": 46
        }
      ]
    },
    {
      "cell_type": "code",
      "metadata": {
        "id": "ORhZoZR4vTJd",
        "colab_type": "code",
        "outputId": "afdbddbd-8f63-4f0d-efb4-b1faad93d471",
        "colab": {
          "base_uri": "https://localhost:8080/",
          "height": 129
        }
      },
      "source": [
        "train_df.groupby(['screening_rat'])['box_off_num'].mean().astype('int')"
      ],
      "execution_count": 0,
      "outputs": [
        {
          "output_type": "execute_result",
          "data": {
            "text/plain": [
              "screening_rat\n",
              "0     364181\n",
              "1    1247518\n",
              "2     844980\n",
              "3     135100\n",
              "Name: box_off_num, dtype: int64"
            ]
          },
          "metadata": {
            "tags": []
          },
          "execution_count": 47
        }
      ]
    },
    {
      "cell_type": "markdown",
      "metadata": {
        "id": "6_QOa3W_vWoA",
        "colab_type": "text"
      },
      "source": [
        "# 7 director : 감독이름"
      ]
    },
    {
      "cell_type": "code",
      "metadata": {
        "id": "p2A-NAgjvXr0",
        "colab_type": "code",
        "colab": {}
      },
      "source": [
        "train_director = set(train_df.director.tolist())\n",
        "test_director = set(test_df.director.tolist())\n",
        "inter_director = list(train_director.intersection(test_director))\n",
        "target_director = []\n",
        "\n",
        "for di in inter_director:\n",
        "    if train_df[train_df.director == di]['box_off_num'].mean() > train_df['box_off_num'].mean():\n",
        "        target_director.append(di)"
      ],
      "execution_count": 0,
      "outputs": []
    },
    {
      "cell_type": "code",
      "metadata": {
        "id": "Q16_BO2vvYr3",
        "colab_type": "code",
        "outputId": "71eff754-16f8-4044-a0b9-87837cfdfbb2",
        "colab": {
          "base_uri": "https://localhost:8080/",
          "height": 36
        }
      },
      "source": [
        "len(target_director)"
      ],
      "execution_count": 0,
      "outputs": [
        {
          "output_type": "execute_result",
          "data": {
            "text/plain": [
              "24"
            ]
          },
          "metadata": {
            "tags": []
          },
          "execution_count": 49
        }
      ]
    },
    {
      "cell_type": "code",
      "metadata": {
        "id": "E0Mzq15evZuj",
        "colab_type": "code",
        "outputId": "23ba9234-7f3f-4ae3-d38d-4f95ef9e17a2",
        "colab": {
          "base_uri": "https://localhost:8080/",
          "height": 465
        }
      },
      "source": [
        "director_dict = dict((i,j) for i,j in zip(target_director, [i for i in range(len(target_director))]))\n",
        "director_dict"
      ],
      "execution_count": 0,
      "outputs": [
        {
          "output_type": "execute_result",
          "data": {
            "text/plain": [
              "{'강우석': 0,\n",
              " '강효진': 2,\n",
              " '곽경택': 15,\n",
              " '김상만': 4,\n",
              " '김성훈': 12,\n",
              " '김정훈': 21,\n",
              " '김한민': 13,\n",
              " '김홍선': 14,\n",
              " '류승완': 6,\n",
              " '민규동': 9,\n",
              " '박훈정': 3,\n",
              " '방은진': 8,\n",
              " '윤종빈': 20,\n",
              " '이석훈': 10,\n",
              " '이재규': 1,\n",
              " '이정범': 7,\n",
              " '이준익': 22,\n",
              " '임상수': 11,\n",
              " '임순례': 17,\n",
              " '장철수': 5,\n",
              " '장훈': 18,\n",
              " '정지영': 16,\n",
              " '조범구': 19,\n",
              " '황동혁': 23}"
            ]
          },
          "metadata": {
            "tags": []
          },
          "execution_count": 50
        }
      ]
    },
    {
      "cell_type": "code",
      "metadata": {
        "id": "SuXKrB_YvbA6",
        "colab_type": "code",
        "colab": {}
      },
      "source": [
        "df.director = df.director.replace(director_dict).apply(lambda x : x if str(x).isdigit() else len(director_dict)).astype(\"object\")\n",
        "train_df.director = train_df.director.replace(director_dict).apply(lambda x : x if str(x).isdigit() else len(director_dict)).astype(\"object\")\n",
        "test_df.director = test_df.director.replace(director_dict).apply(lambda x : x if str(x).isdigit() else len(director_dict)).astype(\"object\")"
      ],
      "execution_count": 0,
      "outputs": []
    },
    {
      "cell_type": "code",
      "metadata": {
        "id": "mVcm0w98vcOd",
        "colab_type": "code",
        "outputId": "240f1b1b-4a7b-4645-8895-47279537f711",
        "colab": {
          "base_uri": "https://localhost:8080/",
          "height": 503
        }
      },
      "source": [
        "df.director.value_counts().sort_index()"
      ],
      "execution_count": 0,
      "outputs": [
        {
          "output_type": "execute_result",
          "data": {
            "text/plain": [
              "0       3\n",
              "1       2\n",
              "2       2\n",
              "3       3\n",
              "4       2\n",
              "5       2\n",
              "6       3\n",
              "7       2\n",
              "8       2\n",
              "9       4\n",
              "10      3\n",
              "11      3\n",
              "12      4\n",
              "13      2\n",
              "14      2\n",
              "15      4\n",
              "16      2\n",
              "17      3\n",
              "18      2\n",
              "19      2\n",
              "20      2\n",
              "21      3\n",
              "22      4\n",
              "23      2\n",
              "24    780\n",
              "Name: director, dtype: int64"
            ]
          },
          "metadata": {
            "tags": []
          },
          "execution_count": 52
        }
      ]
    },
    {
      "cell_type": "code",
      "metadata": {
        "id": "3RyeTiUuvdga",
        "colab_type": "code",
        "outputId": "bf4127b0-5e6f-490a-b395-671bc5aea2f8",
        "colab": {
          "base_uri": "https://localhost:8080/",
          "height": 521
        }
      },
      "source": [
        "train_df.groupby('director')[\n",
        "    'box_off_num'\n",
        "].mean().astype('int')"
      ],
      "execution_count": 0,
      "outputs": [
        {
          "output_type": "execute_result",
          "data": {
            "text/plain": [
              "director\n",
              "0     2547448\n",
              "1     3849696\n",
              "2     1214237\n",
              "3      903340\n",
              "4     1208310\n",
              "5     6959083\n",
              "6     4944780\n",
              "7     6178665\n",
              "8     1854711\n",
              "9     2318897\n",
              "10    8212959\n",
              "11    1716802\n",
              "12    1728739\n",
              "13    7482180\n",
              "14    1646142\n",
              "15    1835873\n",
              "16    3460212\n",
              "17     885638\n",
              "18    2945151\n",
              "19    3566844\n",
              "20    4720050\n",
              "21    1314509\n",
              "22    1550716\n",
              "23    8659725\n",
              "24     557955\n",
              "Name: box_off_num, dtype: int64"
            ]
          },
          "metadata": {
            "tags": []
          },
          "execution_count": 53
        }
      ]
    },
    {
      "cell_type": "markdown",
      "metadata": {
        "id": "Bdl3llGdvt4Q",
        "colab_type": "text"
      },
      "source": [
        "# 8 dir_prev_bfnum : 해당 감독이 이 영화를 만들기 전 제작에 참여한 영화에서의 평균 관객수(단 관객수가 알려지지 않은 영화 제외)"
      ]
    },
    {
      "cell_type": "code",
      "metadata": {
        "id": "FgjQovEKvwFS",
        "colab_type": "code",
        "outputId": "73dc8776-1ca9-4ca4-e034-6c0100a26449",
        "colab": {
          "base_uri": "https://localhost:8080/",
          "height": 36
        }
      },
      "source": [
        "df.dir_prev_bfnum.isnull().sum()"
      ],
      "execution_count": 0,
      "outputs": [
        {
          "output_type": "execute_result",
          "data": {
            "text/plain": [
              "466"
            ]
          },
          "metadata": {
            "tags": []
          },
          "execution_count": 54
        }
      ]
    },
    {
      "cell_type": "code",
      "metadata": {
        "id": "jZ4WnA3gvxaQ",
        "colab_type": "code",
        "outputId": "93c7861f-b11f-45cc-a027-a950f9e8375e",
        "colab": {
          "base_uri": "https://localhost:8080/",
          "height": 36
        }
      },
      "source": [
        "df[df.dir_prev_num == 0].shape"
      ],
      "execution_count": 0,
      "outputs": [
        {
          "output_type": "execute_result",
          "data": {
            "text/plain": [
              "(466, 13)"
            ]
          },
          "metadata": {
            "tags": []
          },
          "execution_count": 55
        }
      ]
    },
    {
      "cell_type": "code",
      "metadata": {
        "id": "j2xLdJHEwNBW",
        "colab_type": "code",
        "outputId": "2317aef1-dccd-4543-d37c-e9cef9806e12",
        "colab": {
          "base_uri": "https://localhost:8080/",
          "height": 303
        }
      },
      "source": [
        "sns.distplot(df.dir_prev_num)"
      ],
      "execution_count": 0,
      "outputs": [
        {
          "output_type": "execute_result",
          "data": {
            "text/plain": [
              "<matplotlib.axes._subplots.AxesSubplot at 0x7fdcdbbe2a20>"
            ]
          },
          "metadata": {
            "tags": []
          },
          "execution_count": 56
        },
        {
          "output_type": "display_data",
          "data": {
            "image/png": "[encoded data removed]",
            "text/plain": [
              "<Figure size 432x288 with 1 Axes>"
            ]
          },
          "metadata": {
            "tags": []
          }
        }
      ]
    },
    {
      "cell_type": "code",
      "metadata": {
        "id": "fFe0wRB1xjHd",
        "colab_type": "code",
        "colab": {}
      },
      "source": [
        "df.dir_prev_bfnum = df.dir_prev_bfnum.fillna(0)"
      ],
      "execution_count": 0,
      "outputs": []
    },
    {
      "cell_type": "code",
      "metadata": {
        "id": "zi__mdz_xjoT",
        "colab_type": "code",
        "outputId": "49cab3c2-9050-4e35-9a2d-6eabd5d5d296",
        "colab": {
          "base_uri": "https://localhost:8080/",
          "height": 303
        }
      },
      "source": [
        "sns.distplot(df.dir_prev_bfnum)"
      ],
      "execution_count": 0,
      "outputs": [
        {
          "output_type": "execute_result",
          "data": {
            "text/plain": [
              "<matplotlib.axes._subplots.AxesSubplot at 0x7fdcdbc1b860>"
            ]
          },
          "metadata": {
            "tags": []
          },
          "execution_count": 58
        },
        {
          "output_type": "display_data",
          "data": {
            "image/png": "[encoded data removed]",
            "text/plain": [
              "<Figure size 432x288 with 1 Axes>"
            ]
          },
          "metadata": {
            "tags": []
          }
        }
      ]
    },
    {
      "cell_type": "markdown",
      "metadata": {
        "id": "5ANI2LpXw2WT",
        "colab_type": "text"
      },
      "source": [
        "# 10 num_staff : 스텝수\n",
        "# 11 num_actor : 주연배우수"
      ]
    },
    {
      "cell_type": "code",
      "metadata": {
        "id": "CQY6ugq0w32Y",
        "colab_type": "code",
        "outputId": "5de8f448-1025-41e3-b4cb-838c8c2a2196",
        "colab": {
          "base_uri": "https://localhost:8080/",
          "height": 303
        }
      },
      "source": [
        "sns.distplot(df.num_staff)"
      ],
      "execution_count": 0,
      "outputs": [
        {
          "output_type": "execute_result",
          "data": {
            "text/plain": [
              "<matplotlib.axes._subplots.AxesSubplot at 0x7fdcdbac0fd0>"
            ]
          },
          "metadata": {
            "tags": []
          },
          "execution_count": 59
        },
        {
          "output_type": "display_data",
          "data": {
            "image/png": "[encoded data removed]",
            "text/plain": [
              "<Figure size 432x288 with 1 Axes>"
            ]
          },
          "metadata": {
            "tags": []
          }
        }
      ]
    },
    {
      "cell_type": "code",
      "metadata": {
        "id": "riwCf-5Nw6fq",
        "colab_type": "code",
        "outputId": "14f391bb-d33b-4205-d854-9776a3ed5eb6",
        "colab": {
          "base_uri": "https://localhost:8080/",
          "height": 302
        }
      },
      "source": [
        "sns.distplot(df.num_actor)"
      ],
      "execution_count": 0,
      "outputs": [
        {
          "output_type": "execute_result",
          "data": {
            "text/plain": [
              "<matplotlib.axes._subplots.AxesSubplot at 0x7fdcdbb9fef0>"
            ]
          },
          "metadata": {
            "tags": []
          },
          "execution_count": 60
        },
        {
          "output_type": "display_data",
          "data": {
            "image/png": "[encoded data removed]",
            "text/plain": [
              "<Figure size 432x288 with 1 Axes>"
            ]
          },
          "metadata": {
            "tags": []
          }
        }
      ]
    },
    {
      "cell_type": "markdown",
      "metadata": {
        "id": "bTMdMDkuw-Fa",
        "colab_type": "text"
      },
      "source": [
        "# 12 box_off_num : 관객수"
      ]
    },
    {
      "cell_type": "code",
      "metadata": {
        "id": "M9A4kPGAw-wo",
        "colab_type": "code",
        "outputId": "da1e19f2-1e18-408e-e547-39dd2f43bfd7",
        "colab": {
          "base_uri": "https://localhost:8080/",
          "height": 303
        }
      },
      "source": [
        "sns.distplot(train_df.box_off_num)"
      ],
      "execution_count": 0,
      "outputs": [
        {
          "output_type": "execute_result",
          "data": {
            "text/plain": [
              "<matplotlib.axes._subplots.AxesSubplot at 0x7fdcdb986e80>"
            ]
          },
          "metadata": {
            "tags": []
          },
          "execution_count": 61
        },
        {
          "output_type": "display_data",
          "data": {
            "image/png": "[encoded data removed]",
            "text/plain": [
              "<Figure size 432x288 with 1 Axes>"
            ]
          },
          "metadata": {
            "tags": []
          }
        }
      ]
    },
    {
      "cell_type": "markdown",
      "metadata": {
        "id": "beq8a6lbxtkT",
        "colab_type": "text"
      },
      "source": [
        "# 모델링\n",
        "\n",
        "- 1. 선형회귀분석\n",
        "- 2. Lidge\n",
        "- 3. ,Lasso\n",
        "- 4. 의사결정나무\n",
        "- 5. 랜덤포레스트"
      ]
    },
    {
      "cell_type": "code",
      "metadata": {
        "id": "g-lfaaOszHU8",
        "colab_type": "code",
        "outputId": "f9b31fb4-a528-4f4e-a3d7-bcdcff431392",
        "colab": {
          "base_uri": "https://localhost:8080/",
          "height": 36
        }
      },
      "source": [
        "train_df, test_df = df.iloc[:600], df.iloc[600:]\n",
        "train_df.shape, test_df.shape"
      ],
      "execution_count": 0,
      "outputs": [
        {
          "output_type": "execute_result",
          "data": {
            "text/plain": [
              "((600, 13), (243, 13))"
            ]
          },
          "metadata": {
            "tags": []
          },
          "execution_count": 62
        }
      ]
    },
    {
      "cell_type": "code",
      "metadata": {
        "id": "cd6JKoutzI3w",
        "colab_type": "code",
        "colab": {}
      },
      "source": [
        "X = train_df.drop(columns=['title', \n",
        "                          'box_off_num'], axis = 1)\n",
        "y = train_df.box_off_num.astype('float64')"
      ],
      "execution_count": 0,
      "outputs": []
    },
    {
      "cell_type": "code",
      "metadata": {
        "id": "YVNfXofSzKpD",
        "colab_type": "code",
        "outputId": "fdd376b8-b46a-4ffd-837a-f29f58ad05bd",
        "colab": {
          "base_uri": "https://localhost:8080/",
          "height": 36
        }
      },
      "source": [
        "dummy_X = pd.get_dummies(X[X.dtypes[X.dtypes == 'object'].index.format()])\n",
        "not_dummy_X = X.drop(columns=X.dtypes[X.dtypes == 'object'].index.format()).astype('float64')\n",
        "X = pd.concat([dummy_X, not_dummy_X], axis = 1)\n",
        "X.shape"
      ],
      "execution_count": 0,
      "outputs": [
        {
          "output_type": "execute_result",
          "data": {
            "text/plain": [
              "(600, 72)"
            ]
          },
          "metadata": {
            "tags": []
          },
          "execution_count": 64
        }
      ]
    },
    {
      "cell_type": "code",
      "metadata": {
        "id": "ulzJsxcgyCky",
        "colab_type": "code",
        "colab": {}
      },
      "source": [
        "from sklearn.linear_model import LinearRegression, Ridge, Lasso\n",
        "from sklearn.neighbors import KNeighborsRegressor\n",
        "from sklearn.tree import DecisionTreeRegressor\n",
        "from sklearn.ensemble import RandomForestRegressor"
      ],
      "execution_count": 0,
      "outputs": []
    },
    {
      "cell_type": "code",
      "metadata": {
        "id": "mwt77-r3ylUC",
        "colab_type": "code",
        "colab": {}
      },
      "source": [
        "estimator1 = LinearRegression(n_jobs=-1)\n",
        "estimator2 = Ridge()\n",
        "estimator3 = Lasso()\n",
        "estimator4 = DecisionTreeRegressor()\n",
        "estimator5 = RandomForestRegressor(n_jobs=-1)"
      ],
      "execution_count": 0,
      "outputs": []
    },
    {
      "cell_type": "code",
      "metadata": {
        "id": "LZpx6nNxzPCB",
        "colab_type": "code",
        "colab": {}
      },
      "source": [
        "from sklearn.model_selection import cross_val_score, train_test_split\n",
        "from sklearn.metrics import mean_squared_error\n",
        "import warnings\n",
        "warnings.filterwarnings(\"ignore\")"
      ],
      "execution_count": 0,
      "outputs": []
    },
    {
      "cell_type": "code",
      "metadata": {
        "id": "xtThJgMmy8mz",
        "colab_type": "code",
        "outputId": "7dfb6655-da48-4221-a310-5499ade5071a",
        "colab": {
          "base_uri": "https://localhost:8080/",
          "height": 111
        }
      },
      "source": [
        "estimators = [estimator1, estimator2, estimator3, estimator4,\n",
        "             estimator5]\n",
        "\n",
        "for estimator in estimators:\n",
        "    print(np.sqrt(np.abs(cross_val_score(estimator, X, y, cv=10, scoring='neg_mean_squared_error'))).mean())"
      ],
      "execution_count": 0,
      "outputs": [
        {
          "output_type": "stream",
          "text": [
            "1405613.6760848013\n",
            "1381879.6786826532\n",
            "1424402.6173869171\n",
            "2031065.7991913236\n",
            "1437111.408595563\n"
          ],
          "name": "stdout"
        }
      ]
    },
    {
      "cell_type": "markdown",
      "metadata": {
        "id": "Ae_WapS14Znt",
        "colab_type": "text"
      },
      "source": [
        "# 제출용"
      ]
    },
    {
      "cell_type": "code",
      "metadata": {
        "id": "ZqLOpP2H4aSH",
        "colab_type": "code",
        "colab": {}
      },
      "source": [
        "del test_df['title']\n",
        "del test_df['box_off_num']"
      ],
      "execution_count": 0,
      "outputs": []
    },
    {
      "cell_type": "code",
      "metadata": {
        "id": "Q4nr_qCe4a1h",
        "colab_type": "code",
        "colab": {}
      },
      "source": [
        "testdummy_X = pd.get_dummies(test_df[['distributor', 'genre', 'screening_rat', 'release_time_year', 'release_time_month', 'director']])\n",
        "testnot_dummy_X = test_df.drop(columns=['distributor', 'genre', 'screening_rat', 'release_time_year', 'release_time_month','director']).astype('float64')\n",
        "X_test = pd.concat([testdummy_X, testnot_dummy_X], axis = 1)"
      ],
      "execution_count": 0,
      "outputs": []
    },
    {
      "cell_type": "code",
      "metadata": {
        "id": "-jaJBRzE4b_u",
        "colab_type": "code",
        "outputId": "ab9551dd-d094-4b6f-9cc1-484def3ff624",
        "colab": {
          "base_uri": "https://localhost:8080/",
          "height": 36
        }
      },
      "source": [
        "X.shape, X_test.shape"
      ],
      "execution_count": 0,
      "outputs": [
        {
          "output_type": "execute_result",
          "data": {
            "text/plain": [
              "((600, 72), (243, 72))"
            ]
          },
          "metadata": {
            "tags": []
          },
          "execution_count": 71
        }
      ]
    },
    {
      "cell_type": "code",
      "metadata": {
        "id": "1LZM5yyS4dsg",
        "colab_type": "code",
        "colab": {}
      },
      "source": [
        "estimator1 = LinearRegression(n_jobs=-1)\n",
        "estimator2 = Ridge()\n",
        "estimator3 = Lasso()\n",
        "estimator4 = DecisionTreeRegressor()\n",
        "estimator5 = RandomForestRegressor(n_estimators=1000, n_jobs=-1)\n",
        "\n",
        "estimators = [estimator1, estimator2, estimator3, estimator4, estimator5]"
      ],
      "execution_count": 0,
      "outputs": []
    },
    {
      "cell_type": "code",
      "metadata": {
        "id": "LM4YFT_F4uFU",
        "colab_type": "code",
        "colab": {}
      },
      "source": [
        "all_y_pred = np.zeros(shape = (len(X_test), 6))\n",
        "for index, estimator in enumerate(estimators):\n",
        "  estimator.fit(X, y)\n",
        "  all_y_pred[:, index] = estimator.predict(X_test)"
      ],
      "execution_count": 0,
      "outputs": []
    },
    {
      "cell_type": "code",
      "metadata": {
        "id": "U4SkEmYT8Aft",
        "colab_type": "code",
        "colab": {}
      },
      "source": [
        "download = drive.CreateFile({\"id\": \"11spU5V4MKwBuRXNh6IMVQmq_KxZq5Dg6\"}) #이부분 수정하면 됩니당\n",
        "download.GetContentFile(\"submission.csv\")\n",
        "from google.colab import files"
      ],
      "execution_count": 0,
      "outputs": []
    },
    {
      "cell_type": "code",
      "metadata": {
        "id": "y2WZr7eJ8Tmf",
        "colab_type": "code",
        "colab": {}
      },
      "source": [
        "submit = pd.read_csv(\"submission.csv\")\n",
        "for i in range(len(estimators)):\n",
        "  submit['box_off_num'] = all_y_pred[:,i]\n",
        "  submit.to_csv(\"submit\" + str(i) + \".csv\", index = False, encoding='utf-8-sig')\n",
        "  files.download(\"submit\" + str(i) + \".csv\")"
      ],
      "execution_count": 0,
      "outputs": []
    },
    {
      "cell_type": "code",
      "metadata": {
        "id": "Ap59RlKB9L9k",
        "colab_type": "code",
        "colab": {}
      },
      "source": [
        ""
      ],
      "execution_count": 0,
      "outputs": []
    }
  ]
}